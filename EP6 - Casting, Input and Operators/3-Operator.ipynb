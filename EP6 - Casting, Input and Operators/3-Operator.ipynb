{
 "cells": [
  {
   "cell_type": "markdown",
   "metadata": {},
   "source": [
    "# Python Operators\n",
    "\n"
   ]
  },
  {
   "cell_type": "markdown",
   "metadata": {},
   "source": [
    "---\n",
    "## Python divides the operators in the following groups:\n",
    "\n",
    "- Arithmetic operators\n",
    "- Assignment operators\n",
    "- Comparison operators\n",
    "- Logical operators\n",
    "- Identity operators\n",
    "- Membership operators\n",
    "- Bitwise operators"
   ]
  },
  {
   "cell_type": "markdown",
   "metadata": {},
   "source": [
    "## Python Arithmetic Operators\n",
    "Operator | Name | Example\n",
    "--- | --- | ---\n",
    "\\+\t| Addition\t| x + y\t\n",
    "\\-\t| Subtraction\t| x - y\t\n",
    "\\*\t| Multiplication | x * y\t\n",
    "/\t| Division |\tx / y\t\n",
    "%\t| Modulus |\tx % y\t\n",
    "**\t| Exponentiation |\tx ** y\t\n",
    "//\t| Floor division |\tx // y\n",
    "\n"
   ]
  },
  {
   "cell_type": "code",
   "execution_count": null,
   "metadata": {},
   "outputs": [],
   "source": [
    "print(20+10)\n",
    "print(20-4)\n",
    "print(2*34)\n",
    "print(30/15)"
   ]
  },
  {
   "cell_type": "markdown",
   "metadata": {},
   "source": [
    "## Python Assignment Operators\n",
    "Operator | Example | Same As\n",
    "--- | --- | ---\n",
    "=\t| x = 5\t| x = 5\t\n",
    "+=\t| x += 3\t| x = x + 3\t\n",
    "-=\t| x -= 3\t| x = x - 3\t\n",
    "*=\t| x *= 3\t| x = x * 3\t\n",
    "/=\t| x /= 3\t| x = x / 3\t\n",
    "%=\t| x %= 3\t| x = x % 3\t\n",
    "//=\t| x //= 3\t| x = x // 3\t\n",
    "**=\t| x **= 3\t| x = x ** 3\t\n",
    "&=\t| x &= 3\t| x = x & 3\t\n",
    "|=\t| x |= 3\t| x = x | 3\t\n",
    "^=\t| x ^= 3\t| x = x ^ 3\t\n",
    "\\>\\>=\t| x >>= 3\t| x = x >> 3\t\n",
    "<<=\t| x <<= 3\t| x = x << 3\n"
   ]
  },
  {
   "cell_type": "code",
   "execution_count": null,
   "metadata": {},
   "outputs": [],
   "source": [
    "x = 5\n",
    "print(x)\n",
    "x += 5\n",
    "print(x)"
   ]
  },
  {
   "cell_type": "markdown",
   "metadata": {},
   "source": [
    "\n",
    "## Python Comparison Operators\n",
    "Operator | Name | Example\n",
    "--- | --- | ---\n",
    "==\t| Equal\t| x == y\t\n",
    "!=\t| Not equal\t| x != y\t\n",
    "\\>\t| Greater than\t| x > y\t\n",
    "<\t| Less than\t| x < y\t\n",
    "\\>=\t| Greater than or equal to\t| x >= y\t\n",
    "<=\t| Less than or equal to\t| x <= y\n",
    "\n",
    "### Example 2"
   ]
  },
  {
   "cell_type": "code",
   "execution_count": null,
   "metadata": {},
   "outputs": [],
   "source": [
    "# return Boolean\n",
    "x = 5 != 10\n",
    "y = 100 == 100\n",
    "z = 10 >= 20\n",
    "print(x)\n",
    "print(y)\n",
    "print(z)"
   ]
  },
  {
   "cell_type": "markdown",
   "metadata": {},
   "source": [
    "## Python Logical Operators\n",
    "Logical operators are used to combine conditional statements:\n",
    "\n",
    "Operator | Description | Example\n",
    "--- | --- | ---\n",
    "and |\tReturns True if both statements are true\t| x < 5 and  x < 10\t\n",
    "or\t| Returns True if one of the statements is true\t| x < 5 or x < 4\t\n",
    "not\t| Reverse the result, returns False if the result is true |\tnot(x < 5 and x < 10)\n",
    "\n",
    "### Example 3"
   ]
  },
  {
   "cell_type": "code",
   "execution_count": null,
   "metadata": {},
   "outputs": [],
   "source": [
    "# return Boolean\n",
    "x = 5 == 10 or 4 == 4\n",
    "y = 10 == 100 and 1 == 1\n",
    "print(x)\n",
    "print(y)"
   ]
  },
  {
   "cell_type": "markdown",
   "metadata": {},
   "source": [
    "## Python Identity Operators\n",
    "Identity operators are used to compare the objects, not if they are equal, but if they are actually the same object, with the same memory location:\n",
    "Operator | Description | Example\n",
    "--- | --- | ---\n",
    "is |\tReturns True if both variables are the same object\t| x is y\t\n",
    "is not | Returns True if both variables are not the same object | x is not y\n"
   ]
  },
  {
   "cell_type": "code",
   "execution_count": 13,
   "metadata": {},
   "outputs": [
    {
     "name": "stdout",
     "output_type": "stream",
     "text": [
      "False\n"
     ]
    }
   ],
   "source": [
    "# return Boolean\n",
    "a = 1\n",
    "b = 2\n",
    "x = a is b\n",
    "print(x)"
   ]
  },
  {
   "cell_type": "markdown",
   "metadata": {},
   "source": [
    "## Python Membership Operators\n",
    "Membership operators are used to test if a sequence is presented in an object:\n",
    "Operator | Description | Example\n",
    "--- | --- | ---\n",
    "in \t| Returns True if a sequence with the specified value is present in the object |\tx in y\t\n",
    "not in |\tReturns True if a sequence with the specified value is not present in the object |\tx not in y\n",
    "\n",
    "### Example 4"
   ]
  },
  {
   "cell_type": "code",
   "execution_count": null,
   "metadata": {},
   "outputs": [],
   "source": [
    "# return Boolean\n",
    "fruits = [\"apple\", \"banana\"]\n",
    "x = \"apple\" in fruits\n",
    "print(x)"
   ]
  },
  {
   "cell_type": "markdown",
   "metadata": {},
   "source": [
    "## Python Bitwise Operators\n",
    "Bitwise operators are used to compare (binary) numbers:\n",
    "Operator | Description | Example\n",
    "--- | --- | ---\n",
    "&  |\tAND |\tSets each bit to 1 if both bits are 1\n",
    "\\|\t| OR\t| Sets each bit to 1 if one of two bits is 1\n",
    " ^\t| XOR\t| Sets each bit to 1 if only one of two bits is 1\n",
    "~ \t| NOT\t| Inverts all the bits\n",
    "<<\t| Zero  fill left shift |\tShift left by pushing zeros in from the right and let the leftmost bits fall off\n",
    "\\>\\>\t| Signed right shift\t| Shift right by pushing copies of the leftmost bit in from the left, and let the rightmost bits fall off"
   ]
  },
  {
   "cell_type": "code",
   "execution_count": null,
   "metadata": {},
   "outputs": [],
   "source": [
    "a = 10 # 1010 (Binary)\n",
    "b = 4  # 0100 (Binary)\n",
    "\n",
    "# (10)  1010\n",
    "#        &\n",
    "# (4)   0100\n",
    "#  =    0000  = 0\n",
    "\n",
    "print(a & b)"
   ]
  }
 ],
 "metadata": {
  "interpreter": {
   "hash": "6c2f652955d21804732aebfb072fdfbe4f6dfed244bd96cc1f07b3bb00609fac"
  },
  "kernelspec": {
   "display_name": "Python 3.8.5 64-bit ('base': conda)",
   "language": "python",
   "name": "python3"
  },
  "language_info": {
   "codemirror_mode": {
    "name": "ipython",
    "version": 3
   },
   "file_extension": ".py",
   "mimetype": "text/x-python",
   "name": "python",
   "nbconvert_exporter": "python",
   "pygments_lexer": "ipython3",
   "version": "3.8.5"
  },
  "orig_nbformat": 4
 },
 "nbformat": 4,
 "nbformat_minor": 2
}
