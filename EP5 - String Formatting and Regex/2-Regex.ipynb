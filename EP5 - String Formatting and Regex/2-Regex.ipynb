{
 "cells": [
  {
   "cell_type": "markdown",
   "metadata": {},
   "source": [
    "# Python RegEx\n",
    "A RegEx, or Regular Expression, is a sequence of characters that forms a search pattern. \n",
    "RegEx can be used to check if a string contains the specified search pattern.\n",
    "\n",
    "---\n",
    "\n"
   ]
  },
  {
   "cell_type": "markdown",
   "metadata": {},
   "source": [
    "## RegEx Functions\n",
    "The `re` module offers a set of functions that allows us to search a string for a match:\n",
    "\n",
    "| Function | Description\n",
    "| --- | ---\n",
    "findall |\tReturns a list containing all matches\n",
    "search\t| Returns a Match object if there is a match anywhere in the string\n",
    "split\t| Returns a list where the string has been split at each match\n",
    "sub\t | Replaces one or many matches with a string\n",
    "\n",
    "## Metacharacters\n",
    "Metacharacters are characters with a special meaning:\n",
    "\n",
    "Character | Description | Example\n",
    "--- | --- | ---\n",
    "[]  | A set of characters\t | \"[a-m]\"\n",
    "\\\t| Signals a special sequence (can also be used to escape special characters) | \t\"\\d\"\n",
    ".\t| Any character (except newline character) | \t\"he..o\"\n",
    "^\t| Ends with\t | \"planet$\"\n",
    "**\t| Zero or more occurrences |\t\"he.*o\"\n",
    "++\t| One or more occurrences | \"he.+o\"\n",
    "?\t| Zero or one occurrences |\t\"he.?o\"\n",
    "{}  | Exactly the specified number of occurrences |\t\"he{2}o\"\n",
    "()\t| Capture and group |\n",
    "\n",
    "## Special Sequences\n",
    "Character | Description\n",
    "--- | --- \n",
    "\\A | Returns a match if the specified characters are at the beginning of the string\n",
    "\\b | Returns a match where the specified characters are at the beginning or at the end of a word\n",
    "\\B | Returns a match where the specified characters are present, but NOT at the beginning (or at the end) of a word\n",
    "\\d | Returns a match where the string contains digits (numbers from 0-9)\n",
    "\\D | Returns a match where the string DOES NOT contain digits\n",
    "\\s | Returns a match where the string contains a white space character\n",
    "\\S | Returns a match where the string DOES NOT contain a white space character\n",
    "\\w | Returns a match where the string contains any word characters\n",
    "\\W | Returns a match where the string DOES NOT contain any word characters\n",
    "\\z | Returns a match if the specified characters are at the end of the string"
   ]
  },
  {
   "cell_type": "markdown",
   "metadata": {},
   "source": [
    "## The findall() Function\n",
    "The `findall()` function returns a list containing all matches.\n",
    "\n",
    "### Example 1\n",
    "Print a list of all matches:"
   ]
  },
  {
   "cell_type": "code",
   "execution_count": null,
   "metadata": {},
   "outputs": [],
   "source": [
    "import re\n",
    "\n",
    "#Return a list containing every occurrence of \"ai\":\n",
    "\n",
    "txt = \"The rain in Spain\"\n",
    "x = re.findall(\"ai\", txt)\n",
    "print(x)"
   ]
  },
  {
   "cell_type": "markdown",
   "metadata": {},
   "source": [
    "## The search() Function\n",
    "The search() function searches the string for a match, and returns a Match object if there is a match.\n",
    "\n",
    "If there is more than one match, only the first occurrence of the match will be returned:\n",
    "\n",
    "### Example 2\n",
    "Search for the first white-space character in the string:"
   ]
  },
  {
   "cell_type": "code",
   "execution_count": null,
   "metadata": {},
   "outputs": [],
   "source": [
    "import re\n",
    "\n",
    "txt = \"The rain in Spain\"\n",
    "x = re.search(\"\\s\", txt)\n",
    "\n",
    "print(\"The first white-space character is located in position:\", x.start())"
   ]
  },
  {
   "cell_type": "markdown",
   "metadata": {},
   "source": [
    "If no matches are found, the value `None` is returned:"
   ]
  },
  {
   "cell_type": "code",
   "execution_count": null,
   "metadata": {},
   "outputs": [],
   "source": [
    "import re\n",
    "\n",
    "txt = \"The rain in Spain\"\n",
    "x = re.search(\"Portugal\", txt)\n",
    "print(x)"
   ]
  },
  {
   "cell_type": "markdown",
   "metadata": {},
   "source": [
    "## The split() Function\n",
    "The `split()` function returns a list where the string has been split at each match:\n",
    "\n",
    "### Example 3\n",
    "Split at each white-space character:\n",
    "\n"
   ]
  },
  {
   "cell_type": "code",
   "execution_count": null,
   "metadata": {},
   "outputs": [],
   "source": [
    "import re\n",
    "\n",
    "txt = \"The rain in Spain\"\n",
    "x = re.split(\"\\s\", txt)\n",
    "print(x)"
   ]
  },
  {
   "cell_type": "markdown",
   "metadata": {},
   "source": [
    "## The sub() Function\n",
    "The `sub()` function replaces the matches with the text of your choice:\n",
    "\n",
    "### Example 4\n",
    "Replace every white-space character with the number 9:\n",
    "\n"
   ]
  },
  {
   "cell_type": "code",
   "execution_count": null,
   "metadata": {},
   "outputs": [],
   "source": [
    "import re\n",
    "\n",
    "txt = \"The rain in Spain\"\n",
    "x = re.sub(\"\\s\", \"9\", txt)\n",
    "print(x)"
   ]
  }
 ],
 "metadata": {
  "interpreter": {
   "hash": "6c2f652955d21804732aebfb072fdfbe4f6dfed244bd96cc1f07b3bb00609fac"
  },
  "kernelspec": {
   "display_name": "Python 3.8.5 64-bit ('base': conda)",
   "language": "python",
   "name": "python3"
  },
  "language_info": {
   "codemirror_mode": {
    "name": "ipython",
    "version": 3
   },
   "file_extension": ".py",
   "mimetype": "text/x-python",
   "name": "python",
   "nbconvert_exporter": "python",
   "pygments_lexer": "ipython3",
   "version": "3.8.5"
  },
  "orig_nbformat": 4
 },
 "nbformat": 4,
 "nbformat_minor": 2
}
