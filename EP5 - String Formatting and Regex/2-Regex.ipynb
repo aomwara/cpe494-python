{
 "cells": [
  {
   "cell_type": "markdown",
   "metadata": {},
   "source": [
    "# Python RegEx\n",
    "A RegEx, or Regular Expression, is a sequence of characters that forms a search pattern. \n",
    "RegEx can be used to check if a string contains the specified search pattern.\n",
    "\n",
    "---\n",
    "\n"
   ]
  },
  {
   "cell_type": "markdown",
   "metadata": {},
   "source": [
    "## RegEx Module\n",
    "Python has a built-in package called `re`, which can be used to work with Regular Expressions.\n",
    "Import the `re` module:\n",
    "\n",
    "```python\n",
    "import re\n",
    "```\n",
    "\n",
    "---"
   ]
  },
  {
   "cell_type": "markdown",
   "metadata": {},
   "source": [
    "## RegEx in Python\n",
    "When you have imported the `re` module, you can start using regular expressions:\n",
    "\n",
    "### Example 1"
   ]
  },
  {
   "cell_type": "code",
   "execution_count": null,
   "metadata": {},
   "outputs": [],
   "source": [
    "import re\n",
    "\n",
    "txt = \"The rain in Spain\"\n",
    "x = re.search(\"^The.*Spain$\", txt)\n",
    "\n",
    "if x:\n",
    "  print(\"YES! We have a match!\")\n",
    "else:\n",
    "  print(\"No match\")"
   ]
  },
  {
   "cell_type": "markdown",
   "metadata": {},
   "source": [
    "---\n",
    "\n",
    "## RegEx Functions\n",
    "The `re` module offers a set of functions that allows us to search a string for a match:\n",
    "\n",
    "Function | Description\n",
    "--- | ---\n",
    "findall | Returns a list containing all matches\n",
    "search | Returns a Match object if there is a match anywhere in the string \n",
    "split | Returns a list where the string has been split at each match\n",
    "sub | Replaces one or many matches with a string\n",
    "\n",
    "## Metacharacters\n",
    "Metacharacters are characters with a special meaning:\n",
    "\n",
    "Character | Description | Example\n",
    "--- | --- | ---\n",
    "[]  | A set of characters\t | \"[a-m]\"\n",
    "\\\t| Signals a special sequence (can also be used to escape special characters) | \t\"\\d\"\n",
    ".\t| Any character (except newline character) | \t\"he..o\"\n",
    "^\t| Ends with\t | \"planet$\"\n",
    "**\t| Zero or more occurrences |\t\"he.*o\"\n",
    "++\t| One or more occurrences | \"he.+o\"\n",
    "?\t| Zero or one occurrences |\t\"he.?o\"\n",
    "{}  | Exactly the specified number of occurrences |\t\"he{2}o\"\n",
    "()\t| Capture and group |\n",
    "\n",
    "## Special Sequences\n",
    "Character | Description\n",
    "--- | --- \n",
    "\\A | Returns a match if the specified characters are at the beginning of the string\n",
    "\\b | Returns a match where the specified characters are at the beginning or at the end of a word\n",
    "\\B | Returns a match where the specified characters are present, but NOT at the beginning (or at the end) of a word\n",
    "\\d | Returns a match where the string contains digits (numbers from 0-9)\n",
    "\\D | Returns a match where the string DOES NOT contain digits\n",
    "\\s | Returns a match where the string contains a white space character\n",
    "\\S | Returns a match where the string DOES NOT contain a white space character\n",
    "\\w | Returns a match where the string contains any word characters\n",
    "\\W | Returns a match where the string DOES NOT contain any word characters\n",
    "\\z | Returns a match if the specified characters are at the end of the string\n",
    "\n",
    "\n",
    "## Sets\n",
    "A set is a set of characters inside a pair of square brackets `[]` with a special meaning:\n",
    "\n",
    "Set | Description\n",
    "--- | --- \n",
    "[arn] | Returns a match where one of the specified characters (`a`, `r`, or `n`) are present\n",
    "[a-n] | Returns a match for any lower case character, alphabetically between `a` and `n`\n",
    "[^arn] | Returns a match for any character EXCEPT `a`, `r`, and `n`\n",
    "[0123] | Returns a match where any of the specified digits (`0`, `1`, `2`, or `3`) are present\n",
    "[0-9] | Returns a match for any digit between `0` and `9`\n",
    "[0-5][0-9] | Returns a match for any two-digit numbers from `0` and `59`\n",
    "[a-zA-Z] | Returns a match for any character alphabetically between `a` and `z`, lower case OR upper case\n",
    "\n",
    "---\n",
    "\n",
    "\n",
    "\n",
    "\n"
   ]
  },
  {
   "cell_type": "markdown",
   "metadata": {},
   "source": [
    "## The findall() Function\n",
    "The `findall()` function returns a list containing all matches.\n",
    "\n",
    "### Example 2\n",
    "Print a list of all matches:"
   ]
  },
  {
   "cell_type": "code",
   "execution_count": null,
   "metadata": {},
   "outputs": [],
   "source": [
    "import re\n",
    "\n",
    "txt = \"The rain in Spain\"\n",
    "x = re.findall(\"ai\", txt)\n",
    "\n",
    "print(x)"
   ]
  },
  {
   "cell_type": "markdown",
   "metadata": {},
   "source": [
    "The list contains the matches in the order they are found.\n",
    "If no matches are found, an empty list is returned:\n",
    "\n",
    "### Example 3\n",
    "Return an empty list if no match was found:"
   ]
  },
  {
   "cell_type": "code",
   "execution_count": null,
   "metadata": {},
   "outputs": [],
   "source": [
    "import re\n",
    "\n",
    "txt = \"The rain in Spain\"\n",
    "\n",
    "x = re.findall(\"Portugal\", txt)\n",
    "print(x)\n",
    "\n",
    "if (x):\n",
    "  print(\"Yes, there is at least one match!\")\n",
    "else:\n",
    "  print(\"No match\")"
   ]
  },
  {
   "cell_type": "markdown",
   "metadata": {},
   "source": [
    "--- \n",
    "## The search() Function\n",
    "The `search()` function searches the string for a match, and returns a Match object if there is a match.\n",
    "If there is more than one match, only the first occurrence of the match will be returned:\n",
    "\n",
    "### Example 4\n",
    "Search for the first white-space character in the string:"
   ]
  },
  {
   "cell_type": "code",
   "execution_count": null,
   "metadata": {},
   "outputs": [],
   "source": [
    "import re\n",
    "\n",
    "txt = \"The rain in Spain\"\n",
    "x = re.search(\"\\s\", txt)\n",
    "\n",
    "print(\"The first white-space character is located in position:\", x.start())"
   ]
  },
  {
   "cell_type": "markdown",
   "metadata": {},
   "source": [
    "If no matches are found, the value `None` is returned:\n",
    "\n",
    "### Example 5\n",
    "Make a search that returns no match:\n",
    "\n"
   ]
  },
  {
   "cell_type": "code",
   "execution_count": null,
   "metadata": {},
   "outputs": [],
   "source": [
    "import re\n",
    "\n",
    "txt = \"The rain in Spain\"\n",
    "x = re.search(\"Portugal\", txt)\n",
    "\n",
    "print(x)"
   ]
  },
  {
   "cell_type": "markdown",
   "metadata": {},
   "source": [
    "---\n",
    "\n",
    "## The split() Function\n",
    "The `split()` function returns a list where the string has been split at each match:\n",
    "\n",
    "### Example 6\n",
    "Split at each white-space character:\n"
   ]
  },
  {
   "cell_type": "code",
   "execution_count": null,
   "metadata": {},
   "outputs": [],
   "source": [
    "import re\n",
    "\n",
    "txt = \"The rain in Spain\"\n",
    "x = re.split(\"\\s\", txt)\n",
    "\n",
    "print(x)"
   ]
  },
  {
   "cell_type": "markdown",
   "metadata": {},
   "source": [
    "You can control the number of occurrences by specifying the `maxsplit` parameter:\n",
    "\n",
    "### Example 7\n",
    "Split the string only at the first occurrence:"
   ]
  },
  {
   "cell_type": "code",
   "execution_count": null,
   "metadata": {},
   "outputs": [],
   "source": [
    "import re\n",
    "\n",
    "txt = \"The rain in Spain\"\n",
    "x = re.split(\"\\s\", txt, 1)\n",
    "\n",
    "print(x)"
   ]
  },
  {
   "cell_type": "markdown",
   "metadata": {},
   "source": [
    "--- \n",
    "\n",
    "## The sub() Function\n",
    "The `sub()` function replaces the matches with the text of your choice:\n",
    "\n",
    "### Example 8\n",
    "Replace every white-space character with the number 9:\n"
   ]
  },
  {
   "cell_type": "code",
   "execution_count": null,
   "metadata": {},
   "outputs": [],
   "source": [
    "import re\n",
    "\n",
    "txt = \"The rain in Spain\"\n",
    "x = re.sub(\"\\s\", \"9\", txt)\n",
    "\n",
    "print(x)"
   ]
  },
  {
   "cell_type": "markdown",
   "metadata": {},
   "source": [
    "## Match Object\n",
    "A Match Object is an object containing information about the search and the result.\n",
    "\n",
    "### Example 9\n",
    "Do a search that will return a Match Object:\n"
   ]
  },
  {
   "cell_type": "code",
   "execution_count": null,
   "metadata": {},
   "outputs": [],
   "source": [
    "import re\n",
    "\n",
    "txt = \"The rain in Spain\"\n",
    "x = re.search(\"ai\", txt)\n",
    "print(x)\n"
   ]
  },
  {
   "cell_type": "markdown",
   "metadata": {},
   "source": [
    "The Match object has properties and methods used to retrieve information about the search, and the result:\n",
    "\n",
    "- `.span()` returns a tuple containing the start-, and end positions of the match.\n",
    "- `.string` returns the string passed into the function\n",
    "- `.group()` returns the part of the string where there was a match\n",
    "\n",
    "### Example 10\n",
    "Print the position (start- and end-position) of the first match occurrence.\n",
    "\n",
    "The regular expression looks for any words that starts with an upper case \"S\":"
   ]
  },
  {
   "cell_type": "code",
   "execution_count": null,
   "metadata": {},
   "outputs": [],
   "source": [
    "import re\n",
    "\n",
    "txt = \"The rain in Spain\"\n",
    "x = re.search(r\"\\bS\\w+\", txt)\n",
    "\n",
    "print(x.span())"
   ]
  },
  {
   "cell_type": "markdown",
   "metadata": {},
   "source": [
    "### Example 11\n",
    "Print the string passed into the function:"
   ]
  },
  {
   "cell_type": "code",
   "execution_count": null,
   "metadata": {},
   "outputs": [],
   "source": [
    "import re\n",
    "\n",
    "txt = \"The rain in Spain\"\n",
    "x = re.search(r\"\\bS\\w+\", txt)\n",
    "\n",
    "print(x.string)"
   ]
  },
  {
   "cell_type": "markdown",
   "metadata": {},
   "source": [
    "### Example 12\n",
    "Print the part of the string where there was a match.\n",
    "The regular expression looks for any words that starts with an upper case \"S\":"
   ]
  },
  {
   "cell_type": "code",
   "execution_count": null,
   "metadata": {},
   "outputs": [],
   "source": [
    "import re\n",
    "\n",
    "txt = \"The rain in Spain\"\n",
    "x = re.search(r\"\\bS\\w+\", txt)\n",
    "\n",
    "print(x.group())\n"
   ]
  },
  {
   "cell_type": "markdown",
   "metadata": {},
   "source": [
    "---"
   ]
  }
 ],
 "metadata": {
  "interpreter": {
   "hash": "6c2f652955d21804732aebfb072fdfbe4f6dfed244bd96cc1f07b3bb00609fac"
  },
  "kernelspec": {
   "display_name": "Python 3.8.5 64-bit ('base': conda)",
   "language": "python",
   "name": "python3"
  },
  "language_info": {
   "codemirror_mode": {
    "name": "ipython",
    "version": 3
   },
   "file_extension": ".py",
   "mimetype": "text/x-python",
   "name": "python",
   "nbconvert_exporter": "python",
   "pygments_lexer": "ipython3",
   "version": "3.8.5"
  },
  "orig_nbformat": 4
 },
 "nbformat": 4,
 "nbformat_minor": 2
}
