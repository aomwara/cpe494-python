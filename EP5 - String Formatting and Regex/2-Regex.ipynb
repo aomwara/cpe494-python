{
 "cells": [
  {
   "cell_type": "markdown",
   "metadata": {},
   "source": [
    "# Python RegEx\n",
    "A RegEx, or Regular Expression, is a sequence of characters that forms a search pattern. \n",
    "RegEx can be used to check if a string contains the specified search pattern.\n",
    "\n",
    "---\n",
    "\n"
   ]
  },
  {
   "cell_type": "markdown",
   "metadata": {},
   "source": [
    "## RegEx Functions\n",
    "The `re` module offers a set of functions that allows us to search a string for a match:\n",
    "\n",
    "-  `match()` ตรวจสอบว่า regex ตรงกับ string ตัวแรกตรงไหน\n",
    "- `search()` ค้นหาทั้ง string ที่ regex pattern ของเราไป match ทั้ง match(), search() จะ return `None` ถ้าไม่พบค่าจาก pattern ถ้าพบจะ return `match object`\n",
    "- `findall()` ค้นหา string ทั้งหมดที่ regex ตรงกัน แล้ว return เป็น list\n",
    "- `finditer()` ค้นหา string ทั้งหมดที่ regex ตรงกัน แล้ว return เป็น iterator\n",
    "- `sub()` ใช้เพื่อ replace data ที่ตรงกับ regex ของเรา\n",
    "\n",
    "## Metacharacters\n",
    "Metacharacters are characters with a special meaning:\n",
    "\n",
    "Character | Description | Example\n",
    "--- | --- | ---\n",
    "[]  | A set of characters\t | \"[a-m]\"\n",
    "\\\t| Signals a special sequence (can also be used to escape special characters) | \t\"\\d\"\n",
    ".\t| Any character (except newline character) | \t\"he..o\"\n",
    "^\t| Ends with\t | \"planet$\"\n",
    "**\t| Zero or more occurrences |\t\"he.*o\"\n",
    "++\t| One or more occurrences | \"he.+o\"\n",
    "?\t| Zero or one occurrences |\t\"he.?o\"\n",
    "{}  | Exactly the specified number of occurrences |\t\"he{2}o\"\n",
    "()\t| Capture and group |\n",
    "\n",
    "## Special Sequences\n",
    "Character | Description\n",
    "--- | --- \n",
    "\\A | Returns a match if the specified characters are at the beginning of the string\n",
    "\\b | Returns a match where the specified characters are at the beginning or at the end of a word\n",
    "\\B | Returns a match where the specified characters are present, but NOT at the beginning (or at the end) of a word\n",
    "\\d | Returns a match where the string contains digits (numbers from 0-9)\n",
    "\\D | Returns a match where the string DOES NOT contain digits\n",
    "\\s | Returns a match where the string contains a white space character\n",
    "\\S | Returns a match where the string DOES NOT contain a white space character\n",
    "\\w | Returns a match where the string contains any word characters\n",
    "\\W | Returns a match where the string DOES NOT contain any word characters\n",
    "\\z | Returns a match if the specified characters are at the end of the string\n",
    "\n",
    "---\n"
   ]
  },
  {
   "cell_type": "markdown",
   "metadata": {},
   "source": [
    "## RegEx in Python\n",
    "การที่เราจะเริ่มใช้งาน regex ใน python นั้นง่ายมาก เพียงแค่เรา import re module เข้ามาก็สามารถใช้งานได้แล้ว"
   ]
  },
  {
   "cell_type": "code",
   "execution_count": null,
   "metadata": {},
   "outputs": [],
   "source": [
    "import re\n",
    "# ตัวอย่างการใช้ search(pattern, string)\n",
    "email = \"testmail@mail.com\"\n",
    "email_pattern = r\"(^[a-zA-Z0-9_.+-]+@[a-zA-Z0-9-]+\\.[a-zA-Z0-9-.]+$)\"\n",
    "x = re.search(email_pattern, email)\n",
    "if x:\n",
    "  print(\"email pattern match\")\n",
    "else:\n",
    "  print(\"no match\")"
   ]
  },
  {
   "cell_type": "markdown",
   "metadata": {},
   "source": [
    "ตัว `re.match()` กับ `re.search()` มีความแตกต่างกันเพียงแค่ `re.match()` จะใช้ค้นหาเพียงช่วงต้นของ string ในขณะที่ `re.search()` จะค้นหาทั้ง string ว่ามีค่าที่ตรงกับ pattern ของเราหรือไม่"
   ]
  },
  {
   "cell_type": "code",
   "execution_count": null,
   "metadata": {},
   "outputs": [],
   "source": [
    "import re\n",
    "Substring = 'string'\n",
    "String ='''We are learning regex, regex is very useful for string matching.'''\n",
    "# re.search() Method \n",
    "print(re.search(Substring, String, re.IGNORECASE))\n",
    "# <_sre.SRE_Match object; span=(48, 54), match='string'>\n",
    "# re.match() Method \n",
    "print(re.match(Substring, String, re.IGNORECASE))\n",
    "# None"
   ]
  },
  {
   "cell_type": "markdown",
   "metadata": {},
   "source": [
    "เราใช้ `re.IGNORECASE` เพื่อไม่สนใจ case sensitive(ตัวเล็กตัวใหญ่) ของ string"
   ]
  },
  {
   "cell_type": "code",
   "execution_count": null,
   "metadata": {},
   "outputs": [],
   "source": [
    "import re\n",
    "txt = '''\n",
    "Hi welcome everyone that read my blogs\n",
    "Thank you all for follower\n",
    "'''\n",
    "# re.findall() Method\n",
    "x = re.findall(r\"(\\w{5,8})\", txt)\n",
    "print(x)\n",
    "# ['welcome', 'everyone', 'blogs', 'Thank', 'follower']\n",
    "# ผลของการใช้ re.findall() คือค่าที่ได้จะกลับมาในรูปแบบของ list\n",
    "# re.finditer() Method\n",
    "for x in re.finditer(r\"(\\w{5,8})\", txt):\n",
    "  print(x)\n",
    "# <_sre.SRE_Match object; span=(4, 11), match='welcome'>\n",
    "# ...\n",
    "# <_sre.SRE_Match object; span=(58, 66), match='follower'>\n",
    "# ค่าที่ได้ออกมาก็จะเป็น iterator ซึ่งเราต้องนำไป loop รับค่าของ `match object` แล้วแสดงผล"
   ]
  },
  {
   "cell_type": "markdown",
   "metadata": {},
   "source": [
    "แล้ว `match object` เนี่ย มี data อะไรให้เราบ้าง ?\n",
    "\n",
    "- `.span()`   return tuple ที่มีตำแหน่งเริ่มและสิ้นสุดของ pattern\n",
    "- `.string`   return string ที่เราใช้ในการทำ regex ทั้งก้อน\n",
    "- `.group()`  return ค่าของ string เฉพาะส่วนที่ match\n",
    "\n",
    "เหลือตัวสุดท้ายแล้วก็คือ `sub()` ซึ่งตัวนี้เราจะใช้ในการ replace ค่าที่ match กับ pattern ด้วยค่าที่เราต้องการ"
   ]
  },
  {
   "cell_type": "code",
   "execution_count": null,
   "metadata": {},
   "outputs": [],
   "source": [
    "import re\n",
    "txt = \"something must be happen here 123 456\"\n",
    "x = re.sub(r\"(\\d)+$\", \"\", txt)\n",
    "print(x)\n",
    "# something must be happen here 123\n",
    "# เราให้ลบค่าที ่match กับ pattern ของเราในที่นี่คือตัวเลขชุดสุดท้าย\n",
    "x = re.sub(r\"(\\w) (\\d)\", r\"\\1\\2\", txt)\n",
    "print(x) \n",
    "# something must be happen here123456\n",
    "# อันนี้ผมใช้ regex ในการ replace โดยให้ลบ ช่องว่างระหว่าง group 1, 2 (ใส่ r นำหน้า string)"
   ]
  }
 ],
 "metadata": {
  "interpreter": {
   "hash": "6c2f652955d21804732aebfb072fdfbe4f6dfed244bd96cc1f07b3bb00609fac"
  },
  "kernelspec": {
   "display_name": "Python 3.8.5 64-bit ('base': conda)",
   "language": "python",
   "name": "python3"
  },
  "language_info": {
   "codemirror_mode": {
    "name": "ipython",
    "version": 3
   },
   "file_extension": ".py",
   "mimetype": "text/x-python",
   "name": "python",
   "nbconvert_exporter": "python",
   "pygments_lexer": "ipython3",
   "version": "3.8.5"
  },
  "orig_nbformat": 4
 },
 "nbformat": 4,
 "nbformat_minor": 2
}
