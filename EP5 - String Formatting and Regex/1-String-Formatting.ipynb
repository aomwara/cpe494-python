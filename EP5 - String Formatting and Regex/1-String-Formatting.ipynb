{
 "cells": [
  {
   "cell_type": "markdown",
   "metadata": {},
   "source": [
    "# String Formatting\n",
    "To make sure a string will display as expected, we can format the result with the format() method."
   ]
  },
  {
   "cell_type": "markdown",
   "metadata": {},
   "source": [
    "---\n",
    "\n",
    "## String format()\n",
    "The format() method allows you to format selected parts of a string.\n",
    "Sometimes there are parts of a text that you do not control, maybe they come from a database, or user input?\n",
    "To control such values, add placeholders (curly brackets {}) in the text, and run the values through the format() method:\n",
    "\n",
    "### Example 1\n",
    "Add a placeholder where you want to display the price:"
   ]
  },
  {
   "cell_type": "code",
   "execution_count": null,
   "metadata": {},
   "outputs": [],
   "source": [
    "price = 49\n",
    "txt = \"The price is {} dollars\"\n",
    "print(txt.format(price))"
   ]
  },
  {
   "cell_type": "markdown",
   "metadata": {},
   "source": [
    "### Example 2\n",
    "You can add parameters inside the curly brackets to specify how to convert the value:"
   ]
  },
  {
   "cell_type": "code",
   "execution_count": null,
   "metadata": {},
   "outputs": [],
   "source": [
    "price = 49\n",
    "txt = \"The price is {:.2f} dollars\"\n",
    "print(txt.format(price))"
   ]
  },
  {
   "cell_type": "markdown",
   "metadata": {},
   "source": [
    "---\n",
    "\n",
    "## Multiple Values\n",
    "If you want to use more values, just add more values to the format() method:\n",
    "\n",
    "```python\n",
    "print(txt.format(price, itemno, count))\n",
    "```\n",
    "\n",
    "### Example 3"
   ]
  },
  {
   "cell_type": "code",
   "execution_count": null,
   "metadata": {},
   "outputs": [],
   "source": [
    "quantity = 3\n",
    "itemno = 567\n",
    "price = 49\n",
    "myorder = \"I want {} pieces of item number {} for {:.2f} dollars.\"\n",
    "print(myorder.format(quantity, itemno, price))"
   ]
  },
  {
   "cell_type": "markdown",
   "metadata": {},
   "source": [
    "---\n",
    "\n",
    "## Index Numbers\n",
    "You can use index numbers (a number inside the curly brackets `{0}`) to be sure the values are placed in the correct placeholders:\n",
    "\n",
    "### Example 4"
   ]
  },
  {
   "cell_type": "code",
   "execution_count": null,
   "metadata": {},
   "outputs": [],
   "source": [
    "quantity = 3\n",
    "itemno = 567\n",
    "price = 49\n",
    "myorder = \"I want {0} pieces of item number {1} for {2:.2f} dollars.\"\n",
    "print(myorder.format(quantity, itemno, price))"
   ]
  },
  {
   "cell_type": "markdown",
   "metadata": {},
   "source": [
    "### Example 5\n",
    "Also, if you want to refer to the same value more than once, use the index number:"
   ]
  },
  {
   "cell_type": "code",
   "execution_count": null,
   "metadata": {},
   "outputs": [],
   "source": [
    "age = 36\n",
    "name = \"John\"\n",
    "txt = \"His name is {1}. {1} is {0} years old.\"\n",
    "print(txt.format(age, name))"
   ]
  },
  {
   "cell_type": "markdown",
   "metadata": {},
   "source": [
    "---\n",
    "## Named Indexes\n",
    "You can also use named indexes by entering a name inside the curly brackets `{carname}`, but then you must use names when you pass the parameter values `txt.format(carname = \"Ford\")`:\n",
    "\n",
    "### Example 6"
   ]
  },
  {
   "cell_type": "code",
   "execution_count": null,
   "metadata": {},
   "outputs": [],
   "source": [
    "myorder = \"I have a {carname}, it is a {model}.\"\n",
    "print(myorder.format(carname = \"Ford\", model = \"Mustang\"))"
   ]
  }
 ],
 "metadata": {
  "interpreter": {
   "hash": "6c2f652955d21804732aebfb072fdfbe4f6dfed244bd96cc1f07b3bb00609fac"
  },
  "kernelspec": {
   "display_name": "Python 3.8.5 64-bit ('base': conda)",
   "language": "python",
   "name": "python3"
  },
  "language_info": {
   "codemirror_mode": {
    "name": "ipython",
    "version": 3
   },
   "file_extension": ".py",
   "mimetype": "text/x-python",
   "name": "python",
   "nbconvert_exporter": "python",
   "pygments_lexer": "ipython3",
   "version": "3.8.5"
  },
  "orig_nbformat": 4
 },
 "nbformat": 4,
 "nbformat_minor": 2
}
